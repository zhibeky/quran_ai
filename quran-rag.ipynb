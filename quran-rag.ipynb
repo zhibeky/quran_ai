{
 "cells": [
  {
   "cell_type": "code",
   "execution_count": 1,
   "id": "05332850-8189-4f8a-9bd7-89f03775c427",
   "metadata": {},
   "outputs": [
    {
     "name": "stdout",
     "output_type": "stream",
     "text": [
      "Requirement already satisfied: jupyter in /opt/anaconda3/lib/python3.12/site-packages (1.0.0)\n",
      "Requirement already satisfied: openai in /opt/anaconda3/lib/python3.12/site-packages (1.84.0)\n",
      "Requirement already satisfied: minsearch in /opt/anaconda3/lib/python3.12/site-packages (0.0.4)\n",
      "Requirement already satisfied: requests in /opt/anaconda3/lib/python3.12/site-packages (2.32.3)\n",
      "Requirement already satisfied: python-dotenv in /opt/anaconda3/lib/python3.12/site-packages (1.1.1)\n",
      "Requirement already satisfied: notebook in /opt/anaconda3/lib/python3.12/site-packages (from jupyter) (7.1.2)\n",
      "Requirement already satisfied: qtconsole in /opt/anaconda3/lib/python3.12/site-packages (from jupyter) (5.5.1)\n",
      "Requirement already satisfied: jupyter-console in /opt/anaconda3/lib/python3.12/site-packages (from jupyter) (6.6.3)\n",
      "Requirement already satisfied: nbconvert in /opt/anaconda3/lib/python3.12/site-packages (from jupyter) (7.16.4)\n",
      "Requirement already satisfied: ipykernel in /opt/anaconda3/lib/python3.12/site-packages (from jupyter) (6.29.5)\n",
      "Requirement already satisfied: ipywidgets in /opt/anaconda3/lib/python3.12/site-packages (from jupyter) (7.8.1)\n",
      "Requirement already satisfied: anyio<5,>=3.5.0 in /opt/anaconda3/lib/python3.12/site-packages (from openai) (4.9.0)\n",
      "Requirement already satisfied: distro<2,>=1.7.0 in /opt/anaconda3/lib/python3.12/site-packages (from openai) (1.9.0)\n",
      "Requirement already satisfied: httpx<1,>=0.23.0 in /opt/anaconda3/lib/python3.12/site-packages (from openai) (0.25.2)\n",
      "Requirement already satisfied: jiter<1,>=0.4.0 in /opt/anaconda3/lib/python3.12/site-packages (from openai) (0.10.0)\n",
      "Requirement already satisfied: pydantic<3,>=1.9.0 in /opt/anaconda3/lib/python3.12/site-packages (from openai) (2.10.5)\n",
      "Requirement already satisfied: sniffio in /opt/anaconda3/lib/python3.12/site-packages (from openai) (1.3.0)\n",
      "Requirement already satisfied: tqdm>4 in /opt/anaconda3/lib/python3.12/site-packages (from openai) (4.66.5)\n",
      "Requirement already satisfied: typing-extensions<5,>=4.11 in /opt/anaconda3/lib/python3.12/site-packages (from openai) (4.12.2)\n",
      "Requirement already satisfied: numpy in /opt/anaconda3/lib/python3.12/site-packages (from minsearch) (1.26.4)\n",
      "Requirement already satisfied: pandas in /opt/anaconda3/lib/python3.12/site-packages (from minsearch) (2.2.2)\n",
      "Requirement already satisfied: scikit-learn in /opt/anaconda3/lib/python3.12/site-packages (from minsearch) (1.7.0)\n",
      "Requirement already satisfied: charset-normalizer<4,>=2 in /opt/anaconda3/lib/python3.12/site-packages (from requests) (3.3.2)\n",
      "Requirement already satisfied: idna<4,>=2.5 in /opt/anaconda3/lib/python3.12/site-packages (from requests) (3.7)\n",
      "Requirement already satisfied: urllib3<3,>=1.21.1 in /opt/anaconda3/lib/python3.12/site-packages (from requests) (2.2.3)\n",
      "Requirement already satisfied: certifi>=2017.4.17 in /opt/anaconda3/lib/python3.12/site-packages (from requests) (2024.12.14)\n",
      "Requirement already satisfied: httpcore==1.* in /opt/anaconda3/lib/python3.12/site-packages (from httpx<1,>=0.23.0->openai) (1.0.2)\n",
      "Requirement already satisfied: h11<0.15,>=0.13 in /opt/anaconda3/lib/python3.12/site-packages (from httpcore==1.*->httpx<1,>=0.23.0->openai) (0.14.0)\n",
      "Requirement already satisfied: annotated-types>=0.6.0 in /opt/anaconda3/lib/python3.12/site-packages (from pydantic<3,>=1.9.0->openai) (0.6.0)\n",
      "Requirement already satisfied: pydantic-core==2.27.2 in /opt/anaconda3/lib/python3.12/site-packages (from pydantic<3,>=1.9.0->openai) (2.27.2)\n",
      "Requirement already satisfied: appnope in /opt/anaconda3/lib/python3.12/site-packages (from ipykernel->jupyter) (0.1.3)\n",
      "Requirement already satisfied: comm>=0.1.1 in /opt/anaconda3/lib/python3.12/site-packages (from ipykernel->jupyter) (0.2.1)\n",
      "Requirement already satisfied: debugpy>=1.6.5 in /opt/anaconda3/lib/python3.12/site-packages (from ipykernel->jupyter) (1.6.7)\n",
      "Requirement already satisfied: ipython>=7.23.1 in /opt/anaconda3/lib/python3.12/site-packages (from ipykernel->jupyter) (8.27.0)\n",
      "Requirement already satisfied: jupyter-client>=6.1.12 in /opt/anaconda3/lib/python3.12/site-packages (from ipykernel->jupyter) (8.6.0)\n",
      "Requirement already satisfied: jupyter-core!=5.0.*,>=4.12 in /opt/anaconda3/lib/python3.12/site-packages (from ipykernel->jupyter) (5.7.2)\n",
      "Requirement already satisfied: matplotlib-inline>=0.1 in /opt/anaconda3/lib/python3.12/site-packages (from ipykernel->jupyter) (0.1.6)\n",
      "Requirement already satisfied: nest-asyncio in /opt/anaconda3/lib/python3.12/site-packages (from ipykernel->jupyter) (1.6.0)\n",
      "Requirement already satisfied: packaging in /opt/anaconda3/lib/python3.12/site-packages (from ipykernel->jupyter) (24.1)\n",
      "Requirement already satisfied: psutil in /opt/anaconda3/lib/python3.12/site-packages (from ipykernel->jupyter) (5.9.0)\n",
      "Requirement already satisfied: pyzmq>=24 in /opt/anaconda3/lib/python3.12/site-packages (from ipykernel->jupyter) (25.1.2)\n",
      "Requirement already satisfied: tornado>=6.1 in /opt/anaconda3/lib/python3.12/site-packages (from ipykernel->jupyter) (6.4.1)\n",
      "Requirement already satisfied: traitlets>=5.4.0 in /opt/anaconda3/lib/python3.12/site-packages (from ipykernel->jupyter) (5.14.3)\n",
      "Requirement already satisfied: ipython-genutils~=0.2.0 in /opt/anaconda3/lib/python3.12/site-packages (from ipywidgets->jupyter) (0.2.0)\n",
      "Requirement already satisfied: widgetsnbextension~=3.6.6 in /opt/anaconda3/lib/python3.12/site-packages (from ipywidgets->jupyter) (3.6.6)\n",
      "Requirement already satisfied: jupyterlab-widgets<3,>=1.0.0 in /opt/anaconda3/lib/python3.12/site-packages (from ipywidgets->jupyter) (1.0.0)\n",
      "Requirement already satisfied: prompt-toolkit>=3.0.30 in /opt/anaconda3/lib/python3.12/site-packages (from jupyter-console->jupyter) (3.0.43)\n",
      "Requirement already satisfied: pygments in /opt/anaconda3/lib/python3.12/site-packages (from jupyter-console->jupyter) (2.19.2)\n",
      "Requirement already satisfied: beautifulsoup4 in /opt/anaconda3/lib/python3.12/site-packages (from nbconvert->jupyter) (4.12.3)\n",
      "Requirement already satisfied: bleach!=5.0.0 in /opt/anaconda3/lib/python3.12/site-packages (from nbconvert->jupyter) (4.1.0)\n",
      "Requirement already satisfied: defusedxml in /opt/anaconda3/lib/python3.12/site-packages (from nbconvert->jupyter) (0.7.1)\n",
      "Requirement already satisfied: jinja2>=3.0 in /opt/anaconda3/lib/python3.12/site-packages (from nbconvert->jupyter) (3.1.4)\n",
      "Requirement already satisfied: jupyterlab-pygments in /opt/anaconda3/lib/python3.12/site-packages (from nbconvert->jupyter) (0.1.2)\n",
      "Requirement already satisfied: markupsafe>=2.0 in /opt/anaconda3/lib/python3.12/site-packages (from nbconvert->jupyter) (2.1.3)\n",
      "Requirement already satisfied: mistune<4,>=2.0.3 in /opt/anaconda3/lib/python3.12/site-packages (from nbconvert->jupyter) (2.0.4)\n",
      "Requirement already satisfied: nbclient>=0.5.0 in /opt/anaconda3/lib/python3.12/site-packages (from nbconvert->jupyter) (0.8.0)\n",
      "Requirement already satisfied: nbformat>=5.7 in /opt/anaconda3/lib/python3.12/site-packages (from nbconvert->jupyter) (5.10.4)\n",
      "Requirement already satisfied: pandocfilters>=1.4.1 in /opt/anaconda3/lib/python3.12/site-packages (from nbconvert->jupyter) (1.5.0)\n",
      "Requirement already satisfied: tinycss2 in /opt/anaconda3/lib/python3.12/site-packages (from nbconvert->jupyter) (1.2.1)\n",
      "Requirement already satisfied: jupyter-server<3,>=2.4.0 in /opt/anaconda3/lib/python3.12/site-packages (from notebook->jupyter) (2.14.1)\n",
      "Requirement already satisfied: jupyterlab-server<3,>=2.22.1 in /opt/anaconda3/lib/python3.12/site-packages (from notebook->jupyter) (2.27.3)\n",
      "Requirement already satisfied: jupyterlab<4.2,>=4.1.1 in /opt/anaconda3/lib/python3.12/site-packages (from notebook->jupyter) (4.1.8)\n",
      "Requirement already satisfied: notebook-shim<0.3,>=0.2 in /opt/anaconda3/lib/python3.12/site-packages (from notebook->jupyter) (0.2.3)\n",
      "Requirement already satisfied: python-dateutil>=2.8.2 in /opt/anaconda3/lib/python3.12/site-packages (from pandas->minsearch) (2.9.0.post0)\n",
      "Requirement already satisfied: pytz>=2020.1 in /opt/anaconda3/lib/python3.12/site-packages (from pandas->minsearch) (2024.1)\n",
      "Requirement already satisfied: tzdata>=2022.7 in /opt/anaconda3/lib/python3.12/site-packages (from pandas->minsearch) (2023.3)\n",
      "Requirement already satisfied: qtpy>=2.4.0 in /opt/anaconda3/lib/python3.12/site-packages (from qtconsole->jupyter) (2.4.1)\n",
      "Requirement already satisfied: scipy>=1.8.0 in /opt/anaconda3/lib/python3.12/site-packages (from scikit-learn->minsearch) (1.13.1)\n",
      "Requirement already satisfied: joblib>=1.2.0 in /opt/anaconda3/lib/python3.12/site-packages (from scikit-learn->minsearch) (1.4.2)\n",
      "Requirement already satisfied: threadpoolctl>=3.1.0 in /opt/anaconda3/lib/python3.12/site-packages (from scikit-learn->minsearch) (3.5.0)\n",
      "Requirement already satisfied: six>=1.9.0 in /opt/anaconda3/lib/python3.12/site-packages (from bleach!=5.0.0->nbconvert->jupyter) (1.16.0)\n",
      "Requirement already satisfied: webencodings in /opt/anaconda3/lib/python3.12/site-packages (from bleach!=5.0.0->nbconvert->jupyter) (0.5.1)\n",
      "Requirement already satisfied: decorator in /opt/anaconda3/lib/python3.12/site-packages (from ipython>=7.23.1->ipykernel->jupyter) (5.1.1)\n",
      "Requirement already satisfied: jedi>=0.16 in /opt/anaconda3/lib/python3.12/site-packages (from ipython>=7.23.1->ipykernel->jupyter) (0.19.1)\n",
      "Requirement already satisfied: stack-data in /opt/anaconda3/lib/python3.12/site-packages (from ipython>=7.23.1->ipykernel->jupyter) (0.2.0)\n",
      "Requirement already satisfied: pexpect>4.3 in /opt/anaconda3/lib/python3.12/site-packages (from ipython>=7.23.1->ipykernel->jupyter) (4.8.0)\n",
      "Requirement already satisfied: platformdirs>=2.5 in /opt/anaconda3/lib/python3.12/site-packages (from jupyter-core!=5.0.*,>=4.12->ipykernel->jupyter) (3.10.0)\n",
      "Requirement already satisfied: argon2-cffi>=21.1 in /opt/anaconda3/lib/python3.12/site-packages (from jupyter-server<3,>=2.4.0->notebook->jupyter) (23.1.0)\n",
      "Requirement already satisfied: jupyter-events>=0.9.0 in /opt/anaconda3/lib/python3.12/site-packages (from jupyter-server<3,>=2.4.0->notebook->jupyter) (0.10.0)\n",
      "Requirement already satisfied: jupyter-server-terminals>=0.4.4 in /opt/anaconda3/lib/python3.12/site-packages (from jupyter-server<3,>=2.4.0->notebook->jupyter) (0.4.4)\n",
      "Requirement already satisfied: overrides>=5.0 in /opt/anaconda3/lib/python3.12/site-packages (from jupyter-server<3,>=2.4.0->notebook->jupyter) (7.4.0)\n",
      "Requirement already satisfied: prometheus-client>=0.9 in /opt/anaconda3/lib/python3.12/site-packages (from jupyter-server<3,>=2.4.0->notebook->jupyter) (0.14.1)\n",
      "Requirement already satisfied: send2trash>=1.8.2 in /opt/anaconda3/lib/python3.12/site-packages (from jupyter-server<3,>=2.4.0->notebook->jupyter) (1.8.2)\n",
      "Requirement already satisfied: terminado>=0.8.3 in /opt/anaconda3/lib/python3.12/site-packages (from jupyter-server<3,>=2.4.0->notebook->jupyter) (0.17.1)\n",
      "Requirement already satisfied: websocket-client>=1.7 in /opt/anaconda3/lib/python3.12/site-packages (from jupyter-server<3,>=2.4.0->notebook->jupyter) (1.8.0)\n",
      "Requirement already satisfied: async-lru>=1.0.0 in /opt/anaconda3/lib/python3.12/site-packages (from jupyterlab<4.2,>=4.1.1->notebook->jupyter) (2.0.4)\n",
      "Requirement already satisfied: jupyter-lsp>=2.0.0 in /opt/anaconda3/lib/python3.12/site-packages (from jupyterlab<4.2,>=4.1.1->notebook->jupyter) (2.2.0)\n",
      "Requirement already satisfied: babel>=2.10 in /opt/anaconda3/lib/python3.12/site-packages (from jupyterlab-server<3,>=2.22.1->notebook->jupyter) (2.11.0)\n",
      "Requirement already satisfied: json5>=0.9.0 in /opt/anaconda3/lib/python3.12/site-packages (from jupyterlab-server<3,>=2.22.1->notebook->jupyter) (0.9.6)\n",
      "Requirement already satisfied: jsonschema>=4.18.0 in /opt/anaconda3/lib/python3.12/site-packages (from jupyterlab-server<3,>=2.22.1->notebook->jupyter) (4.23.0)\n",
      "Requirement already satisfied: fastjsonschema>=2.15 in /opt/anaconda3/lib/python3.12/site-packages (from nbformat>=5.7->nbconvert->jupyter) (2.16.2)\n",
      "Requirement already satisfied: wcwidth in /opt/anaconda3/lib/python3.12/site-packages (from prompt-toolkit>=3.0.30->jupyter-console->jupyter) (0.2.5)\n",
      "Requirement already satisfied: soupsieve>1.2 in /opt/anaconda3/lib/python3.12/site-packages (from beautifulsoup4->nbconvert->jupyter) (2.5)\n",
      "Requirement already satisfied: argon2-cffi-bindings in /opt/anaconda3/lib/python3.12/site-packages (from argon2-cffi>=21.1->jupyter-server<3,>=2.4.0->notebook->jupyter) (21.2.0)\n",
      "Requirement already satisfied: parso<0.9.0,>=0.8.3 in /opt/anaconda3/lib/python3.12/site-packages (from jedi>=0.16->ipython>=7.23.1->ipykernel->jupyter) (0.8.3)\n",
      "Requirement already satisfied: attrs>=22.2.0 in /opt/anaconda3/lib/python3.12/site-packages (from jsonschema>=4.18.0->jupyterlab-server<3,>=2.22.1->notebook->jupyter) (23.1.0)\n",
      "Requirement already satisfied: jsonschema-specifications>=2023.03.6 in /opt/anaconda3/lib/python3.12/site-packages (from jsonschema>=4.18.0->jupyterlab-server<3,>=2.22.1->notebook->jupyter) (2023.7.1)\n",
      "Requirement already satisfied: referencing>=0.28.4 in /opt/anaconda3/lib/python3.12/site-packages (from jsonschema>=4.18.0->jupyterlab-server<3,>=2.22.1->notebook->jupyter) (0.30.2)\n",
      "Requirement already satisfied: rpds-py>=0.7.1 in /opt/anaconda3/lib/python3.12/site-packages (from jsonschema>=4.18.0->jupyterlab-server<3,>=2.22.1->notebook->jupyter) (0.10.6)\n",
      "Requirement already satisfied: python-json-logger>=2.0.4 in /opt/anaconda3/lib/python3.12/site-packages (from jupyter-events>=0.9.0->jupyter-server<3,>=2.4.0->notebook->jupyter) (2.0.7)\n",
      "Requirement already satisfied: pyyaml>=5.3 in /opt/anaconda3/lib/python3.12/site-packages (from jupyter-events>=0.9.0->jupyter-server<3,>=2.4.0->notebook->jupyter) (6.0.1)\n",
      "Requirement already satisfied: rfc3339-validator in /opt/anaconda3/lib/python3.12/site-packages (from jupyter-events>=0.9.0->jupyter-server<3,>=2.4.0->notebook->jupyter) (0.1.4)\n",
      "Requirement already satisfied: rfc3986-validator>=0.1.1 in /opt/anaconda3/lib/python3.12/site-packages (from jupyter-events>=0.9.0->jupyter-server<3,>=2.4.0->notebook->jupyter) (0.1.1)\n",
      "Requirement already satisfied: ptyprocess>=0.5 in /opt/anaconda3/lib/python3.12/site-packages (from pexpect>4.3->ipython>=7.23.1->ipykernel->jupyter) (0.7.0)\n",
      "Requirement already satisfied: executing in /opt/anaconda3/lib/python3.12/site-packages (from stack-data->ipython>=7.23.1->ipykernel->jupyter) (0.8.3)\n",
      "Requirement already satisfied: asttokens in /opt/anaconda3/lib/python3.12/site-packages (from stack-data->ipython>=7.23.1->ipykernel->jupyter) (2.0.5)\n",
      "Requirement already satisfied: pure-eval in /opt/anaconda3/lib/python3.12/site-packages (from stack-data->ipython>=7.23.1->ipykernel->jupyter) (0.2.2)\n",
      "Requirement already satisfied: fqdn in /opt/anaconda3/lib/python3.12/site-packages (from jsonschema[format-nongpl]>=4.18.0->jupyter-events>=0.9.0->jupyter-server<3,>=2.4.0->notebook->jupyter) (1.5.1)\n",
      "Requirement already satisfied: isoduration in /opt/anaconda3/lib/python3.12/site-packages (from jsonschema[format-nongpl]>=4.18.0->jupyter-events>=0.9.0->jupyter-server<3,>=2.4.0->notebook->jupyter) (20.11.0)\n",
      "Requirement already satisfied: jsonpointer>1.13 in /opt/anaconda3/lib/python3.12/site-packages (from jsonschema[format-nongpl]>=4.18.0->jupyter-events>=0.9.0->jupyter-server<3,>=2.4.0->notebook->jupyter) (2.1)\n",
      "Requirement already satisfied: uri-template in /opt/anaconda3/lib/python3.12/site-packages (from jsonschema[format-nongpl]>=4.18.0->jupyter-events>=0.9.0->jupyter-server<3,>=2.4.0->notebook->jupyter) (1.3.0)\n",
      "Requirement already satisfied: webcolors>=24.6.0 in /opt/anaconda3/lib/python3.12/site-packages (from jsonschema[format-nongpl]>=4.18.0->jupyter-events>=0.9.0->jupyter-server<3,>=2.4.0->notebook->jupyter) (24.11.1)\n",
      "Requirement already satisfied: cffi>=1.0.1 in /opt/anaconda3/lib/python3.12/site-packages (from argon2-cffi-bindings->argon2-cffi>=21.1->jupyter-server<3,>=2.4.0->notebook->jupyter) (1.17.1)\n",
      "Requirement already satisfied: pycparser in /opt/anaconda3/lib/python3.12/site-packages (from cffi>=1.0.1->argon2-cffi-bindings->argon2-cffi>=21.1->jupyter-server<3,>=2.4.0->notebook->jupyter) (2.21)\n",
      "Requirement already satisfied: arrow>=0.15.0 in /opt/anaconda3/lib/python3.12/site-packages (from isoduration->jsonschema[format-nongpl]>=4.18.0->jupyter-events>=0.9.0->jupyter-server<3,>=2.4.0->notebook->jupyter) (1.2.3)\n"
     ]
    }
   ],
   "source": [
    "!pip install jupyter openai minsearch requests python-dotenv"
   ]
  },
  {
   "cell_type": "markdown",
   "id": "1b7543b1-946f-4547-9f57-73bd56a7e4f4",
   "metadata": {},
   "source": [
    "### RAG"
   ]
  },
  {
   "cell_type": "code",
   "execution_count": 4,
   "id": "dd10b383-4e60-4a0d-aeed-a8b004074973",
   "metadata": {},
   "outputs": [],
   "source": [
    "import json\n",
    "\n",
    "# The data was cleaned in extended-data-preprocessing.ipynb\n",
    "with open(\"quran_with_tafsir.json\", \"r\", encoding=\"utf-8\") as f:\n",
    "    documents = json.load(f)"
   ]
  },
  {
   "cell_type": "code",
   "execution_count": 5,
   "id": "9d93d6ca-33c1-4c49-8160-20d148388341",
   "metadata": {},
   "outputs": [
    {
     "data": {
      "text/plain": [
       "<minsearch.append.AppendableIndex at 0x10611f6e0>"
      ]
     },
     "execution_count": 5,
     "metadata": {},
     "output_type": "execute_result"
    }
   ],
   "source": [
    "from minsearch import AppendableIndex\n",
    "\n",
    "index = AppendableIndex(\n",
    "    text_fields=[\"question\", \"text\", \"section\"],\n",
    "    keyword_fields=[\"surah_number\", \"surah_name\", \"surah_translation\", \"ayah_number\", \"reference\", \"text\", \"language\", \"tafsir_text\", \"tafsir_source\"]\n",
    ")\n",
    "\n",
    "index.fit(documents)"
   ]
  },
  {
   "cell_type": "code",
   "execution_count": 7,
   "id": "90d01089-d651-4cef-a38a-d4378eaff89d",
   "metadata": {},
   "outputs": [],
   "source": [
    "def search(query):\n",
    "    boost = {'question': 3.0, 'section': 0.5}\n",
    "\n",
    "    results = index.search(\n",
    "        query=query,\n",
    "        boost_dict=boost,\n",
    "        num_results=5,\n",
    "        output_ids=True\n",
    "    )\n",
    "\n",
    "    return results"
   ]
  },
  {
   "cell_type": "code",
   "execution_count": 8,
   "id": "d89610cf-9801-4d96-80b6-f5161391682b",
   "metadata": {},
   "outputs": [],
   "source": [
    "prompt_template = \"\"\"\n",
    "You are an Imam and a teacher of the Qur’an. \n",
    "Answer the QUESTION using only the CONTEXT provided (which contains Qur’an verses and tafsir). \n",
    "Do not add information that is not in the CONTEXT. \n",
    "If the answer cannot be found in the CONTEXT, say you do not know.\n",
    "\n",
    "When answering:\n",
    "- Use clear, respectful, and simple language. \n",
    "- Quote directly from the Qur’an or tafsir when relevant. \n",
    "- Always include the surah and ayah reference (e.g., Surah Al-Fatiha 1:5).\n",
    "- If the Qur’an text alone does not fully answer the QUESTION and you use tafsir (explanatory commentary) to clarify, explicitly label it as 'Tafsir clarification'.\n",
    "\n",
    "Format your answer exactly like this:\n",
    "\n",
    "Qur’an evidence:\n",
    "<quote Quran verses used>\n",
    "\n",
    "Tafsir clarification (if needed):\n",
    "<quote tafsir used or write 'Not needed' if Quran text is enough>\n",
    "\n",
    "Conclusion:\n",
    "<Your answer in clear, concise language>\n",
    "\n",
    "<QUESTION>\n",
    "{question}\n",
    "</QUESTION>\n",
    "\n",
    "<CONTEXT>\n",
    "{context}\n",
    "</CONTEXT>\n",
    "\n",
    "<ANSWER>\n",
    "\"\"\".strip()\n"
   ]
  },
  {
   "cell_type": "code",
   "execution_count": 9,
   "id": "4629107b-ab85-41c0-818b-598ba3bbd901",
   "metadata": {},
   "outputs": [],
   "source": [
    "def build_prompt(query, search_results):\n",
    "    context = \"\"\n",
    "\n",
    "    for doc in search_results:\n",
    "        context = context + f\"surah_name: {doc['surah_name']}\\nreference: {doc['reference']}\\nquestion: {query}\\nquran_text: {doc['text']}\\ntafsir: {doc[\"tafsir_text\"]}\\n\\n\"\n",
    "    \n",
    "    prompt = prompt_template.format(question=query, context=context).strip()\n",
    "    return prompt"
   ]
  },
  {
   "cell_type": "code",
   "execution_count": 27,
   "id": "ca90b9e4-2056-4541-a6f4-27d8c05700d6",
   "metadata": {},
   "outputs": [],
   "source": [
    "question = 'Which verse mentions fasting in Ramadan?'"
   ]
  },
  {
   "cell_type": "code",
   "execution_count": 29,
   "id": "98dd71d8-5b7f-4a84-bcf8-356361bd050d",
   "metadata": {},
   "outputs": [],
   "source": [
    "search_results = search(question)"
   ]
  },
  {
   "cell_type": "code",
   "execution_count": 42,
   "id": "533befe3-83d3-4567-9afb-19a45557aeb0",
   "metadata": {},
   "outputs": [
    {
     "data": {
      "text/plain": [
       "[{'surah_number': 19,\n",
       "  'surah_name': 'Maryam',\n",
       "  'surah_translation': 'Mary',\n",
       "  'ayah_number': 80,\n",
       "  'reference': '19:80',\n",
       "  'text': 'And We will inherit him [in] what he mentions, and he will come to Us alone',\n",
       "  'language': 'English',\n",
       "  'tafsir_text': 'Refuting the Disbelievers Who claim that They will be given Wealth and Children in the Hereafter Imam Ahmad reported from Khabbab bin Al-Aratt that he said, \"I was a blacksmith and Al-\" ®256؛لs bin Wa\\'il owed me a debt. So I went to him to collect my debt from him. He said to me, `No, by Allah, I will not pay my debt to you until you disbelieve in Muhammad ﷺ.\\' I replied to him, `No, by Allah, I will not disbelieve in Muhammad ﷺ until you die and are resurrected again.\\' He then said to me, `Verily, if I die and am resurrected, and you come to me, I will also have abundance of wealth and children and I will repay you then.\\' Then, Allah revealed these Ayat, أَفَرَأَيْتَ الَّذِى كَفَرَ بِـَايَـتِنَا وَقَالَ لأوتَيَنَّ مَالاً وَوَلَداً (Have you seen him who disbelieved in Our Ayat and said: \"I shall certainly be given wealth and children.\") until, وَيَأْتِينَا فَرْداً (and he shall come to Us alone.) This was also recorded by the two compilers of the Sahihs and other collections as well. In the wording of Al-Bukhari it states that Khabbab said, \"I used to be a blacksmith in Makkah and I made a sword for Al-\" ®256؛لs bin Wa\\'il. So I went to him to collect my pay from him...\" then he mentioned the rest of the Hadith and he said, أَمِ اتَّخَذَ عِندَ الرَّحْمَـنِ عَهْداً (or has he taken a covenant from the Most Gracious) \"This means an agreement. \" Concerning Allah\\'s statement, أَطَّلَعَ الْغَيْبَ (Has he known the Unseen) This is a rejection of the person who says, لأوتَيَنَّ مَالاً وَوَلَداً (I shall certainly be given wealth and children.) Meaning, on the Day of Resurrection. In other words, \"Does he know what he will have in the Hereafter, to such an extent that he can swear to it\" أَمِ اتَّخَذَ عِندَ الرَّحْمَـنِ عَهْداً (or has he taken a covenant from the Most Gracious) Or has he received a promise from Allah that he will be given these things It has already been stated that in Sahih Al-Bukhari it is mentioned that covenant means an agreement. Concerning Allah\\'s statement, كَلاَّ (Nay,) This is a participle that opposes what came before it and gives emphasis to what follows it. سَنَكْتُبُ مَا يَقُولُ (We shall record what he says,) what he is seeking, and his idea that he has given himself about what he hopes for, and his disbelief in Allah the Most Great. وَنَمُدُّ لَهُ مِنَ الْعَذَابِ مَدّاً (We shall increase his torment. ) This is referring to what will happen in the abode of the Hereafter, because of his saying his disbelief in Allah in this life. وَنَرِثُهُ مَا يَقُولُ (And We shall inherit from him all that he speaks of,) His wealth and children. It means, \"We will take all of this from him, in opposition to his claim that he will be given more wealth and children in the Hereafter than he had in this life.\" To the contrary, in the Hereafter that which he had in this life will be taken from him. This is why Allah says, وَيَأْتِينَا فَرْداً (And he shall come to Us alone.) without wealth or children. وَاتَّخَذُواْ مِن دُونِ اللَّهِ ءالِهَةً لِّيَكُونُواْ لَهُمْ عِزّاً كَلاَّ سَيَكْفُرُونَ بِعِبَـدَتِهِمْ وَيَكُونُونَ عَلَيْهِمْ ضِدّاً',\n",
       "  'tafsir_source': 'Ibn Kathir (Abridged)',\n",
       "  '_id': 2329},\n",
       " {'surah_number': 87,\n",
       "  'surah_name': \"Al-A'la\",\n",
       "  'surah_translation': 'The Most High',\n",
       "  'ayah_number': 15,\n",
       "  'reference': '87:15',\n",
       "  'text': 'And mentions the name of his Lord and prays',\n",
       "  'language': 'English',\n",
       "  'tafsir_text': 'A Statement concerning the People of Success Allah says, قَدْ أَفْلَحَ مَن تَزَكَّى (Indeed whosoever purifies himself shall achieve success.) meaning, he purifies himself from despised characteristics and he follows what Allah has revealed to the Messenger ﷺ. وَذَكَرَ اسْمَ رَبِّهِ فَصَلَّى (And remembers the Name of his Lord, and performs Salah.) meaning, he establishes the prayer in its appointed time, seeking the pleasure of Allah, obedience to His command, and implementation of His Law. We have already reported from the Commander of the believers, `Umar bin `Abdul-`Aziz, that he used to command the people to give the Sadaqat Al-Fitr, and he would recite this Ayah: قَدْ أَفْلَحَ مَن تَزَكَّى - وَذَكَرَ اسْمَ رَبِّهِ فَصَلَّى (Indeed whosoever purifies himself shall achieve success. And remembers the Name of his Lord, and performs Salah.) Abu Al-Ahwas said, \"If someone comes to any of you begging, and he wants to pray, then he should give charity (Zakah) before he prays. For verily, Allah the Exalted says, قَدْ أَفْلَحَ مَن تَزَكَّى - وَذَكَرَ اسْمَ رَبِّهِ فَصَلَّى (Indeed whosoever purifies himself shall achieve success. And remembers the Name of his Lord, and performs Salah.)\" Qatadah said concerning this Ayah, قَدْ أَفْلَحَ مَن تَزَكَّى - وَذَكَرَ اسْمَ رَبِّهِ فَصَلَّى (Indeed whosoever purifies himself shall achieve success. And remembers the Name of his Lord, and performs Salah (Fasalla).) \"He purifies his wealth and pleases his Creator.\" This World is Worthless in Comparison to the Hereafter Then Allah says, بَلْ تُؤْثِرُونَ الْحَيَوةَ الدُّنْيَا (Rather you prefer the life of this world.) meaning, `you give it precedence over the matter of the Hereafter, and you prefer it because of what it contains of usefulness and benefit for you in livelihood, and your returns (i.e., income, profitable gain).\\' وَالاٌّخِرَةُ خَيْرٌ وَأَبْقَى (Although the Hereafter is better and more lasting.) meaning, the reward of the final abode is better than the worldly life, and it is more lasting. For indeed, this worldly life is lowly and temporal, whereas the Hereafter is noble and eternal. Thus, how can an intelligent person prefer that which is short-lived over that which is eternal. How can he give importance to that which will soon pass away from him, while ignoring the importance of the abode of eternity and infinity. Imam Ahmad recorded from Abu Musa Al-Ash`ari that the Messenger of Allah ﷺ said, «مَنْ أَحَبَّ دُنْيَاهُ أَضَرَّ بِآخِرَتِهِ، وَمَنْ أَحَبَّ آخِرَتَهُ أَضَرَّ بِدُنْيَاهُ، فَآثِرُوا مَا يَبْقَى عَلَى مَا يَفْنَى» (Whoever loves his worldly life, will suffer in his Hereafter, and whoever loves his worldly life, will suffer in his Hereafter, and whoever loves his Hereafter, will suffer in his worldly life. Therefore, chose that which is everlasting over that which is temporal.) Ahmad was alone in recording this Hadith. The Scriptures of Ibrahim and Musa Allah then says, إِنَّ هَـذَا لَفِى الصُّحُفِ الاٍّولَى - صُحُفِ إِبْرَهِيمَ وَمُوسَى (Verily, this is in the former Scriptures -- the Scriptures of Ibrahim and Musa.) This Ayah is similar to Allah\\'s statement in Surat An-Najm, أَمْ لَمْ يُنَبَّأْ بِمَا فِى صُحُفِ مُوسَى - وَإِبْرَهِيمَ الَّذِى وَفَّى - أَلاَّ تَزِرُ وَزِرَةٌ وِزْرَ أُخْرَى - وَأَن لَّيْسَ لِلإِنسَـنِ إِلاَّ مَا سَعَى - وَأَنَّ سَعْيَهُ سَوْفَ يُرَى - ثُمَّ يُجْزَاهُ الْجَزَآءَ الأَوْفَى - وَأَنَّ إِلَى رَبِّكَ الْمُنتَهَى (Or is he not informed with what is in the Scriptures of Musa. And of Ibrahim who fulfilled (or conveyed) all that (Allah ordered him to do or convey): that no burdened person (with sins) shall bear the burden (sins) of another. And that man can have nothing but what he does. And that his deeds will be seen. Then he will be recompensed with a full and the best recompense. And that to your Lord is the End (Return of everything).) (53:36-42) And so forth, until the end of these Ayat. Abu `Aliyah said, \"The story of this Surah is in the earlier Scriptures.\" Ibn Jarir preferred the view that the meaning of Allah\\'s statement, إِنَّ هَذَآ (Verily, this) is referring to His previous statement, قَدْ أَفْلَحَ مَن تَزَكَّى - وَذَكَرَ اسْمَ رَبِّهِ فَصَلَّى - بَلْ تُؤْثِرُونَ الْحَيَوةَ الدُّنْيَا - وَالاٌّخِرَةُ خَيْرٌ وَأَبْقَى (Indeed whosoever purifies himself shall achieve success. And remembers the Name of his Lord, and offers Salah. Rather you prefer the life of this world. Although the Hereafter is better and more lasting.) Then Allah says, إِنَّ هَذَآ (Verily, this) meaning, the content of this discussion, إِنَّ هَـذَا لَفِى الصُّحُفِ الاٍّولَى - صُحُفِ إِبْرَهِيمَ وَمُوسَى (in the former Scriptures, the Scriptures of Ibrahim and Musa.) This view that he (At-Tabari) has chosen is good and strong. Similar to it has been reported from Qatadah and Ibn Zayd. And Allah knows best. This is the end of the Tafsir of Surat Al-A`la (Sabbih). All praise and blessings are due to Allah, and He is the Giver of success and protection from error.',\n",
       "  'tafsir_source': 'Ibn Kathir (Abridged)',\n",
       "  '_id': 5962},\n",
       " {'surah_number': 2,\n",
       "  'surah_name': 'Al-Baqarah',\n",
       "  'surah_translation': 'The Cow',\n",
       "  'ayah_number': 106,\n",
       "  'reference': '2:106',\n",
       "  'text': 'We do not abrogate a verse or cause it to be forgotten except that We bring forth [one] better than it or similar to it. Do you not know that Allah is over all things competent',\n",
       "  'language': 'English',\n",
       "  'tafsir_text': 'The Meaning of Naskh Ibn Abi Talhah said that Ibn `Abbas said that, مَا نَنسَخْ مِنْ ءَايَةٍ (Whatever a verse (revelation) do Nansakh) means, \"Whatever an Ayah We abrogate.\" Also, Ibn Jurayj said that Mujahid said that, مَا نَنسَخْ مِنْ ءَايَةٍ (Whatever a verse (revelation) do Nansakh) means, \"Whatever an Ayah We erase.\" Also, Ibn Abi Najih said that Mujahid said that, مَا نَنسَخْ مِنْ ءَايَةٍ (Whatever a verse (revelation) do Nansakh) means, \"We keep the words, but change the meaning.\" He related these words to the companions of `Abdullah bin Mas`ud. Ibn Abi Hatim said that similar statements were mentioned by Abu Al-`Aliyah and Muhammad bin Ka`b Al-Qurazi. Also As-Suddi said that, مَا نَنسَخْ مِنْ ءَايَةٍ (Whatever a verse (revelation) do Nansakh) means, \"We erase it.\" Further, Ibn Abi Hatim said that it means, \"Erase and raise it, such as erasing the following wordings (from the Qur\\'an), `The married adulterer and the married adulteress: stone them to death,\\' and, `If the son of Adam had two valleys of gold, he would seek a third.\"\\' Ibn Jarir stated that, مَا نَنسَخْ مِنْ ءَايَةٍ (Whatever a verse (revelation) do Nansakh) means, \"Whatever ruling we repeal in an Ayah by making the allowed unlawful and the unlawful allowed.\" The Nasakh only occurs with commandments, prohibitions, permissions, and so forth. As for stories, they do not undergo Nasakh. The word, `Nasakh\\' literally means, `to copy a book\\'. The meaning of Nasakh in the case of commandments is removing the commandment and replacing it by another. And whether the Nasakh involves the wordings, the ruling or both, it is still called Nasakh. Allah said next, أَوْ نُنسِهَا (or Nunsiha (cause it to be forgotten)). `Ali bin Abi Talhah said that Ibn `Abbas said that, مَا نَنسَخْ مِنْ ءَايَةٍ أَوْ نُنسِهَا (Whatever a verse (revelation) do Nansakh or Nunsiha) means, \"Whatever Ayah We repeal or uphold without change.\" Also, Mujahid said that the companions of Ibn Mas`ud (who read this word Nansa\\'ha) said that it means, \"We uphold its wording and change its ruling.\" Further, `Ubayd bin `Umayr, Mujahid and `Ata\\' said, `Nansa\\'ha\\' means, \"We delay it (i.e., do not abrogate it).\" Further, `Atiyyah Al-`Awfi said that the Ayah means, \"We delay repealing it.\" This is the same Tafsir provided by As-Suddi and Ar-Rabi` bin Anas. `Abdur-Razzaq said that Ma`mar said that Qatadah said about Allah\\'s statement, مَا نَنسَخْ مِنْ ءَايَةٍ أَوْ نُنسِهَا (Whatever a verse (revelation) do We abrogate or cause to be forgotten) \"Allah made His Prophet forget what He willed and He abrogated what He will.\" Allah\\'s said, نَأْتِ بِخَيْرٍ مِّنْهَا أَوْ مِثْلِهَا (We bring a better one or similar to it), better, relates to the benefit provided for the one it addresses, as reported from `Ali bin Abi Talhah that Ibn `Abbas said, نَأْتِ بِخَيْرٍ مِّنْهَا (We bring a better one) means, \"We bring forth a more beneficial ruling, that is also easier for you.\" Also, As-Suddi said that, نَأْتِ بِخَيْرٍ مِّنْهَا أَوْ مِثْلِهَا (We bring a better one or similar to it) means, \"We bring forth a better Ayah, or similar to that which was repealed.\" Qatadah also said that, نَأْتِ بِخَيْرٍ مِّنْهَا أَوْ مِثْلِهَا (We bring a better one or similar to it) means, \"We replace it by an Ayah more facilitating, permitting, commanding, or prohibiting.\" Naskh occurs even though the Jews deny it Allah said, مَا نَنسَخْ مِنْ ءَايَةٍ أَوْ نُنسِهَا نَأْتِ بِخَيْرٍ مِّنْهَا أَوْ مِثْلِهَا أَلَمْ تَعْلَمْ أَنَّ اللَّهَ عَلَى كُلِّ شَيْءٍ قَدِيرٌ - أَلَمْ تَعْلَمْ أَنَّ اللَّهَ لَهُ مُلْكُ السَّمَـوَتِ وَالأَرْضِ وَمَا لَكُم مِّن دُونِ اللَّهِ مِن وَلِيٍّ وَلاَ نَصِيرٍ (Know you not that Allah is Able to do all things Know you not that it is Allah to Whom belongs the dominion of the heavens and the earth And besides Allah you have neither any Wali (protector or guardian) nor any helper). Allah directed His servants to the fact that He alone is the Owner of His creatures and that He does with them as He wills. Indeed, His is the supreme authority and all creation is His, and just as He created them as He wills, He brings happiness to whom He wills, misery to whom He wills, health to whom He wills and ailment to whom He wills. He also brings success to whom He wills and failure to whom He wills. He judges between His servants as He wills, allows what He wills and disallows what He wills. He decides what He wills, there is no opponent for His judgment, and no one can question Him about what He does, while they shall be questioned. He tests His servants and their obedience to His Messengers by the Naskh. He commands a matter containing a benefit which He knows of, and then He out of His wisdom, prohibits it. Hence, perfect obedience is realized by adhering to His commands, following His Messengers, believing in what ever they convey, implementing their commands and avoiding what they prohibit. The statements of Allah here contain tremendous benefit, prove that the Jews are disbelievers and refute their claim that Naskh does not occur, may Allah curse the Jews. In ignorance and arrogance they claimed that the sound mind stipulates that Naskh does not occur. Some of them falsely claimed that there are divine texts that dismiss the possibility that Naskh occurred. Imam Abu Ja`far bin Jarir said, \"The Ayah means, `Do you not know, O Muhammad, that I alone own the heavens and the earth and that I decide whatever I will in them I forbid whatever I will, change and repeal whatever I will of My previous rulings, whenever I will. I also uphold whatever I will.\" Ibn Jarir then said, \"Although Allah directed His statement indicating His greatness towards His Prophet , He also rejected the lies of the Jews who denied that the rulings of the Torah could undergo Naskh. The Jews also denied the prophethood of Jesus and Muhammad ﷺ, because of their dislike for what they brought from Allah, such as changing some rulings of the Torah, as Allah commanded. Allah thus proclaimed to the Jews that He owns the heavens and earth and also all authority in them. Further, the subjects in Allah\\'s kingdom are His creation, and they are required to hear and obey His commands and prohibitions. Allah has full authority to command the creation as He wills, forbidding them from what He wills, abrogate what He wills, uphold what He wills, and decide whatever commandments and prohibitions He wills.\" I (Ibn Kathir) say that the Jews\\' dismissal of the occurrence of the Naskh is only a case of their disbelief and rebellion. The sound mind does not deny that there could be a Naskh in Allah\\'s commandments, for He decides what He wills, just as He does what He wills. Further, Naskh occurred in previous Books and Law. For instance, Allah allowed Adam to marry his daughters to his sons and then later forbade this practice. Allah also allowed Nuh to eat from all kinds of animals after they left the ark, then prohibited eating some types of foods. Further, marrying two sisters to one man was allowed for Israel and his children, but Allah prohibited this practice later in the Torah. Allah commanded Abraham to slaughter his son, then repealed that command before it was implemented. Also, Allah commanded the Children of Israel to kill those who worshipped the calf and then repealed that command, so that the Children of Israel were not all exterminated. There are many other instances that the Jews admit have occurred, yet they ignore them. Also, it is a well-known fact that their Books foretold about Muhammad ﷺ and contained the command to follow him. These texts, in their Books, indicate that the Jews were required to follow the Prophet Muhammad ﷺ and that no good deed would be accepted from them, unless it conformed to Muhammad\\'s ﷺ Law. The Prophet brought another Book, - the Qur\\'an -, which is the last revelation from Allah.',\n",
       "  'tafsir_source': 'Ibn Kathir (Abridged)',\n",
       "  '_id': 112},\n",
       " {'surah_number': 16,\n",
       "  'surah_name': 'An-Nahl',\n",
       "  'surah_translation': 'The Bee',\n",
       "  'ayah_number': 101,\n",
       "  'reference': '16:101',\n",
       "  'text': 'And when We substitute a verse in place of a verse - and Allah is most knowing of what He sends down - they say, \"You, [O Muhammad], are but an inventor [of lies].\" But most of them do not know',\n",
       "  'language': 'English',\n",
       "  'tafsir_text': 'The Idolators\\' Accusation that the Prophet was a Liar since some Ayat were abrogated, and the Refutation of their Claim Allah tells us of the weak minds of the idolators, and their lack of faith and conviction. He explains that it is impossible for them to have faith when He has decreed that they are doomed. When they saw that some rulings had been changed by being abrogated, they said to the Messenger of Allah ﷺ: إِنَّمَآ أَنتَ مُفْتَرٍ (You are but a forger) meaning one who tells lies. But Allah is the Lord Who does whatever He wills, and rules as He wants. بَدَّلْنَآ ءَايَةً مَّكَانَ ءَايَةٍ (And when We change a verse (of the Qur\\'an) in place of another) Mujahid said: this means, \"We remove one and put another in its place.\" Qatadah said: this is like the Ayah: مَا نَنسَخْ مِنْ ءَايَةٍ أَوْ نُنسِهَا (Whatever verse We change abrogate or omit the abrogated...)\" (2:106). Allah said, in response to them: قُلْ نَزَّلَهُ رُوحُ الْقُدُسِ (Say: \"Ruh-ul-Qudus has brought it...\") meaning, Jibril, مِّن رَّبِّكَ بِالْحَقِّ (from your Lord with truth, ) meaning, with truthfulness and justice لِيُثَبِّتَ الَّذِينَ ءَامَنُواْ (for the conviction of those who believe,) so that they will believe what was revealed earlier and what was revealed later, and humble themselves towards Allah. وَهُدًى وَبُشْرَى لِلْمُسْلِمِينَ (and as a guide and good news for the Muslims.) meaning He has made it a guide and good news to the Muslims who believe in Allah and His Messengers.',\n",
       "  'tafsir_source': 'Ibn Kathir (Abridged)',\n",
       "  '_id': 2001},\n",
       " {'surah_number': 40,\n",
       "  'surah_name': 'Ghafir',\n",
       "  'surah_translation': 'The Forgiver',\n",
       "  'ayah_number': 78,\n",
       "  'reference': '40:78',\n",
       "  'text': 'And We have already sent messengers before you. Among them are those [whose stories] We have related to you, and among them are those [whose stories] We have not related to you. And it was not for any messenger to bring a sign [or verse] except by permission of Allah. So when the command of Allah comes, it will be concluded in truth, and the falsifiers will thereupon lose [all]',\n",
       "  'language': 'English',\n",
       "  'tafsir_text': \"The Command to be Patient and Good News of Victory Here Allah commands His Messenger to patiently bear the rejection of those who rejected him: `Allah will fulfill His promise to you that you will be victorious and will prevail over your people, and you and those who follow you, will be the successful ones in this world and the Hereafter.' فَـإِمَّا نُرِيَنَّكَ بَعْضَ الَّذِى نَعِدُهُمْ (and whether We show you some part of what We have promised them,) means, in this world, and this is what happened, for Allah gave them the joy of humiliating the leaders and nobles (of the Quraysh), who were killed on the day of Badr, then Allah granted them victory over Makkah and the entire Arabian Peninsula during the lifetime of the Prophet . أَوْ نَتَوَفَّيَنَّكَ فَإِلَيْنَا يُرْجَعُونَ (or We cause you to die, then still it is to Us they all shall be returned.) means, `and We shall inflict a severe punishment upon them in the Hereafter.' Then Allah says, consoling His Prophet : وَلَقَدْ أَرْسَلْنَا رُسُلاً مِّن قَبْلِكَ مِنْهُم مَّن قَصَصْنَا عَلَيْكَ (And, indeed We have sent Messengers before you, of some of them We have related to you their story.) as Allah also says in Surat An-Nisa', meaning, `We have revealed the stories of some of them and how their people disbelieved in them, but the Messengers ultimately prevailed.' وَمِنْهُمْ مَّن لَّمْ نَقْصُصْ عَلَيْكَ (And of some We have not related to you their story, ) and they are many, many more than those whose stories have been told, as has been stated in Surat An-Nisa'. Praise and blessings be to Allah. وَمَا كَانَ لِرَسُولٍ أَن يَأْتِىَ بِـَايَةٍ إِلاَّ بِإِذْنِ اللَّهِ (and it was not given to any Messenger that he should bring a sign except by the leave of Allah.) means, none of the Prophets was able to bring miracles to his people except when Allah granted him permission to do that as a sign of the truth of the message he brought to them. فَإِذَا جَـآءَ أَمْرُ اللَّهِ (But, when comes the commandment of Allah,) means, His punishment and vengeance which will encompass the disbelievers, قُضِىَ بِالْحَقِّ (the matter will be decided with truth,) so the believers will be saved and the disbelievers will be destroyed. Allah says: وَخَسِرَ هُنَالِكَ الْمُبْطِلُونَ (and the followers of falsehood will then be lost.)\",\n",
       "  'tafsir_source': 'Ibn Kathir (Abridged)',\n",
       "  '_id': 4210}]"
      ]
     },
     "execution_count": 42,
     "metadata": {},
     "output_type": "execute_result"
    }
   ],
   "source": [
    "search_results"
   ]
  },
  {
   "cell_type": "code",
   "execution_count": 31,
   "id": "ef118c53-c2aa-4812-8d2a-ea78d2dbdfc0",
   "metadata": {},
   "outputs": [],
   "source": [
    "prompt = build_prompt(question, search_results)"
   ]
  },
  {
   "cell_type": "code",
   "execution_count": null,
   "id": "bb15ec1e-e488-44d4-a103-7e97eff1b004",
   "metadata": {},
   "outputs": [],
   "source": []
  },
  {
   "cell_type": "code",
   "execution_count": 34,
   "id": "e5e4c632-10f7-47ed-b183-63724c99a76f",
   "metadata": {},
   "outputs": [
    {
     "data": {
      "text/plain": [
       "True"
      ]
     },
     "execution_count": 34,
     "metadata": {},
     "output_type": "execute_result"
    }
   ],
   "source": [
    "from dotenv import load_dotenv\n",
    "import os\n",
    "load_dotenv()"
   ]
  },
  {
   "cell_type": "code",
   "execution_count": 36,
   "id": "fae63971-2f20-4b19-82f2-bc0486b874a5",
   "metadata": {},
   "outputs": [],
   "source": [
    "from openai import OpenAI\n",
    "client = OpenAI(api_key=os.getenv(\"OPENAI_API_KEY\"))\n",
    "\n",
    "def llm(prompt):\n",
    "    response = client.chat.completions.create(\n",
    "        model='gpt-4o-mini',\n",
    "        messages=[{\"role\": \"user\", \"content\": prompt}]\n",
    "    )\n",
    "    return response.choices[0].message.content\n",
    "\n",
    "def rag(query):\n",
    "    search_results = search(query)\n",
    "    prompt = build_prompt(query, search_results)\n",
    "    answer = llm(prompt)\n",
    "    return answer"
   ]
  },
  {
   "cell_type": "code",
   "execution_count": 38,
   "id": "4fcc9db2-e25d-4ca5-92d2-60ae16088d9a",
   "metadata": {},
   "outputs": [
    {
     "name": "stdout",
     "output_type": "stream",
     "text": [
      "Qur’an evidence:\n",
      "Not found in the provided context.\n",
      "\n",
      "Tafsir clarification:\n",
      "Not needed.\n",
      "\n",
      "Conclusion:\n",
      "I do not know.\n"
     ]
    }
   ],
   "source": [
    "answer = rag(question)\n",
    "print(answer)"
   ]
  },
  {
   "cell_type": "code",
   "execution_count": null,
   "id": "7df8c717-1e94-42b2-8e45-0764efb52248",
   "metadata": {},
   "outputs": [],
   "source": []
  },
  {
   "cell_type": "code",
   "execution_count": null,
   "id": "99103212-e5ef-4d83-a65a-903d84786038",
   "metadata": {},
   "outputs": [],
   "source": []
  },
  {
   "cell_type": "code",
   "execution_count": null,
   "id": "e329ade2-0322-449e-9698-8f343f50ea30",
   "metadata": {},
   "outputs": [],
   "source": []
  },
  {
   "cell_type": "code",
   "execution_count": null,
   "id": "35f64aa6-08d5-4756-bebb-29e8e1bd442d",
   "metadata": {},
   "outputs": [],
   "source": []
  },
  {
   "cell_type": "code",
   "execution_count": null,
   "id": "581588d2-716f-4711-a104-fafcf1e8a907",
   "metadata": {},
   "outputs": [],
   "source": []
  },
  {
   "cell_type": "code",
   "execution_count": null,
   "id": "8d44d217-7331-4253-a84f-93da75e71ff7",
   "metadata": {},
   "outputs": [],
   "source": []
  }
 ],
 "metadata": {
  "kernelspec": {
   "display_name": "Python [conda env:base] *",
   "language": "python",
   "name": "conda-base-py"
  },
  "language_info": {
   "codemirror_mode": {
    "name": "ipython",
    "version": 3
   },
   "file_extension": ".py",
   "mimetype": "text/x-python",
   "name": "python",
   "nbconvert_exporter": "python",
   "pygments_lexer": "ipython3",
   "version": "3.12.7"
  }
 },
 "nbformat": 4,
 "nbformat_minor": 5
}
